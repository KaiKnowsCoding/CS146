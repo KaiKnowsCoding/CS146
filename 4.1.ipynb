{
 "cells": [
  {
   "cell_type": "code",
   "execution_count": 11,
   "metadata": {},
   "outputs": [],
   "source": [
    "from scipy.optimize import minimize\n",
    "import numpy as np\n",
    "from scipy import stats"
   ]
  },
  {
   "cell_type": "code",
   "execution_count": 12,
   "metadata": {},
   "outputs": [],
   "source": [
    "def f(x):\n",
    "    mu = x[0]\n",
    "    nu = x[1]\n",
    "    alpha = x[2]\n",
    "    beta = x[3]\n",
    "    x_mean = mu\n",
    "    x_sd = np.sqrt(beta/(alpha-1)/nu)\n",
    "    sigma2_mean = beta/(alpha-1)\n",
    "    sigma2_sd = beta/(alpha-1)/np.sqrt(alpha-2)\n",
    "    return (x_mean - 2.3)**2 + (x_sd - 0.5)**2 + (sigma2_mean - 2.75)**2 + (sigma2_sd - 1)**2\n",
    "\n",
    "x_initial = [2.3, 0.1, 3, 5]\n",
    "result = minimize(f, x_initial)\n",
    "x_final = result.x"
   ]
  },
  {
   "cell_type": "code",
   "execution_count": 13,
   "metadata": {},
   "outputs": [
    {
     "name": "stdout",
     "output_type": "stream",
     "text": [
      "[ 2.2999978  10.9997284   9.56250724 23.54689447]\n"
     ]
    }
   ],
   "source": [
    "mu_0 = x_final[0]\n",
    "nu_0 = x_final[1]\n",
    "alpha_0 = x_final[2]\n",
    "beta_0 = x_final[3]\n",
    "print(x_final)"
   ]
  },
  {
   "cell_type": "code",
   "execution_count": 14,
   "metadata": {},
   "outputs": [],
   "source": [
    "def norminvgamma_pdf(x, sigma2, mu, nu, alpha, beta):\n",
    "    return (\n",
    "        stats.norm.pdf(x, loc=mu, scale=np.sqrt(sigma2 / nu)) *\n",
    "        stats.invgamma.pdf(sigma2, a=alpha, scale=beta))\n",
    "\n",
    "def norminvgamma_rvs(mu, nu, alpha, beta, size=1):\n",
    "    sigma2 = stats.invgamma.rvs(a=alpha, scale=beta, size=size)  # Sample sigma^2 from the inverse-gamma\n",
    "    x = stats.norm.rvs(loc=mu, scale=np.sqrt(sigma2 / nu), size=size)  # Sample x from the normal\n",
    "    return np.vstack((x, sigma2)).transpose()"
   ]
  },
  {
   "cell_type": "code",
   "execution_count": 16,
   "metadata": {},
   "outputs": [
    {
     "name": "stdout",
     "output_type": "stream",
     "text": [
      "2.3026821042025487 0.4997747069646789\n",
      "2.7540283838006383 0.9969147363760498\n"
     ]
    }
   ],
   "source": [
    "num_samples = 100000\n",
    "samples = norminvgamma_rvs(mu_0, nu_0, alpha_0, beta_0, size=num_samples)\n",
    "print(samples[:,0].mean(), samples[:,0].std())\n",
    "print(samples[:,1].mean(), samples[:,1].std())"
   ]
  },
  {
   "cell_type": "code",
   "execution_count": null,
   "metadata": {},
   "outputs": [],
   "source": []
  },
  {
   "cell_type": "code",
   "execution_count": null,
   "metadata": {},
   "outputs": [],
   "source": []
  }
 ],
 "metadata": {
  "kernelspec": {
   "display_name": "Python 3",
   "language": "python",
   "name": "python3"
  },
  "language_info": {
   "codemirror_mode": {
    "name": "ipython",
    "version": 3
   },
   "file_extension": ".py",
   "mimetype": "text/x-python",
   "name": "python",
   "nbconvert_exporter": "python",
   "pygments_lexer": "ipython3",
   "version": "3.6.5"
  }
 },
 "nbformat": 4,
 "nbformat_minor": 2
}
